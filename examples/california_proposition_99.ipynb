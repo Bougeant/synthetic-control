{
 "cells": [
  {
   "cell_type": "code",
   "execution_count": 1,
   "id": "8aff8879-e5a5-489c-a80b-b4b5eda8d9b3",
   "metadata": {},
   "outputs": [
    {
     "name": "stdout",
     "output_type": "stream",
     "text": [
      "/Users/olivierbougeant/prodigyfinance/projects/21_conversion_rate_synthetic_control/synthetic_control\n"
     ]
    },
    {
     "name": "stderr",
     "output_type": "stream",
     "text": [
      "/Users/olivierbougeant/prodigyfinance/venv/synthetic_control/lib/python3.10/site-packages/IPython/core/magics/osm.py:417: UserWarning: using dhist requires you to install the `pickleshare` library.\n",
      "  self.shell.db['dhist'] = compress_dhist(dhist)[-100:]\n"
     ]
    }
   ],
   "source": [
    "cd .."
   ]
  },
  {
   "cell_type": "code",
   "execution_count": 2,
   "id": "d8fba8a3-69c9-4bff-a746-85f3693bcc53",
   "metadata": {},
   "outputs": [],
   "source": [
    "from datetime import datetime\n",
    "import pandas as pd\n",
    "from synthetic_control import SyntheticControl"
   ]
  },
  {
   "cell_type": "markdown",
   "id": "c06d0f39-ee32-412f-8bc2-1962b9af8f9b",
   "metadata": {},
   "source": [
    "# Read California proposition 99 dataset"
   ]
  },
  {
   "cell_type": "code",
   "execution_count": 3,
   "id": "167eee52-ce3a-4d8f-a3cf-c3e5074c30d5",
   "metadata": {},
   "outputs": [],
   "source": [
    "df = pd.read_csv(\"./examples/california_prop99.csv\")"
   ]
  },
  {
   "cell_type": "code",
   "execution_count": 4,
   "id": "12c7c64c-ebb2-41dd-86cf-101e449b3783",
   "metadata": {},
   "outputs": [],
   "source": [
    "df[\"Year\"] = pd.to_datetime(df[\"Year\"], format='%Y')"
   ]
  },
  {
   "cell_type": "code",
   "execution_count": 5,
   "id": "8bd44dae-8740-4418-9169-c6aa20b158a8",
   "metadata": {},
   "outputs": [],
   "source": [
    "df = df.pivot(index=\"Year\", columns=\"State\",values=\"PacksPerCapita\")"
   ]
  },
  {
   "cell_type": "code",
   "execution_count": 6,
   "id": "e5c76735-5422-47d9-aab0-60b2fb5c57e8",
   "metadata": {},
   "outputs": [
    {
     "data": {
      "text/html": [
       "<div>\n",
       "<style scoped>\n",
       "    .dataframe tbody tr th:only-of-type {\n",
       "        vertical-align: middle;\n",
       "    }\n",
       "\n",
       "    .dataframe tbody tr th {\n",
       "        vertical-align: top;\n",
       "    }\n",
       "\n",
       "    .dataframe thead th {\n",
       "        text-align: right;\n",
       "    }\n",
       "</style>\n",
       "<table border=\"1\" class=\"dataframe\">\n",
       "  <thead>\n",
       "    <tr style=\"text-align: right;\">\n",
       "      <th>State</th>\n",
       "      <th>Alabama</th>\n",
       "      <th>Arkansas</th>\n",
       "      <th>California</th>\n",
       "      <th>Colorado</th>\n",
       "      <th>Connecticut</th>\n",
       "      <th>Delaware</th>\n",
       "      <th>Georgia</th>\n",
       "      <th>Idaho</th>\n",
       "      <th>Illinois</th>\n",
       "      <th>Indiana</th>\n",
       "      <th>...</th>\n",
       "      <th>South Carolina</th>\n",
       "      <th>South Dakota</th>\n",
       "      <th>Tennessee</th>\n",
       "      <th>Texas</th>\n",
       "      <th>Utah</th>\n",
       "      <th>Vermont</th>\n",
       "      <th>Virginia</th>\n",
       "      <th>West Virginia</th>\n",
       "      <th>Wisconsin</th>\n",
       "      <th>Wyoming</th>\n",
       "    </tr>\n",
       "    <tr>\n",
       "      <th>Year</th>\n",
       "      <th></th>\n",
       "      <th></th>\n",
       "      <th></th>\n",
       "      <th></th>\n",
       "      <th></th>\n",
       "      <th></th>\n",
       "      <th></th>\n",
       "      <th></th>\n",
       "      <th></th>\n",
       "      <th></th>\n",
       "      <th></th>\n",
       "      <th></th>\n",
       "      <th></th>\n",
       "      <th></th>\n",
       "      <th></th>\n",
       "      <th></th>\n",
       "      <th></th>\n",
       "      <th></th>\n",
       "      <th></th>\n",
       "      <th></th>\n",
       "      <th></th>\n",
       "    </tr>\n",
       "  </thead>\n",
       "  <tbody>\n",
       "    <tr>\n",
       "      <th>1970-01-01</th>\n",
       "      <td>89.800003</td>\n",
       "      <td>100.300003</td>\n",
       "      <td>123.000000</td>\n",
       "      <td>124.800003</td>\n",
       "      <td>120.000000</td>\n",
       "      <td>155.000000</td>\n",
       "      <td>109.900002</td>\n",
       "      <td>102.400002</td>\n",
       "      <td>124.800003</td>\n",
       "      <td>134.600006</td>\n",
       "      <td>...</td>\n",
       "      <td>103.599998</td>\n",
       "      <td>92.699997</td>\n",
       "      <td>99.800003</td>\n",
       "      <td>106.400002</td>\n",
       "      <td>65.500000</td>\n",
       "      <td>122.599998</td>\n",
       "      <td>124.300003</td>\n",
       "      <td>114.500000</td>\n",
       "      <td>106.400002</td>\n",
       "      <td>132.199997</td>\n",
       "    </tr>\n",
       "    <tr>\n",
       "      <th>1971-01-01</th>\n",
       "      <td>95.400002</td>\n",
       "      <td>104.099998</td>\n",
       "      <td>121.000000</td>\n",
       "      <td>125.500000</td>\n",
       "      <td>117.599998</td>\n",
       "      <td>161.100006</td>\n",
       "      <td>115.699997</td>\n",
       "      <td>108.500000</td>\n",
       "      <td>125.599998</td>\n",
       "      <td>139.300003</td>\n",
       "      <td>...</td>\n",
       "      <td>115.000000</td>\n",
       "      <td>96.699997</td>\n",
       "      <td>106.300003</td>\n",
       "      <td>108.900002</td>\n",
       "      <td>67.699997</td>\n",
       "      <td>124.400002</td>\n",
       "      <td>128.399994</td>\n",
       "      <td>111.500000</td>\n",
       "      <td>105.400002</td>\n",
       "      <td>131.699997</td>\n",
       "    </tr>\n",
       "    <tr>\n",
       "      <th>1972-01-01</th>\n",
       "      <td>101.099998</td>\n",
       "      <td>103.900002</td>\n",
       "      <td>123.500000</td>\n",
       "      <td>134.300003</td>\n",
       "      <td>110.800003</td>\n",
       "      <td>156.300003</td>\n",
       "      <td>117.000000</td>\n",
       "      <td>126.099998</td>\n",
       "      <td>126.599998</td>\n",
       "      <td>149.199997</td>\n",
       "      <td>...</td>\n",
       "      <td>118.699997</td>\n",
       "      <td>103.000000</td>\n",
       "      <td>111.500000</td>\n",
       "      <td>108.599998</td>\n",
       "      <td>71.300003</td>\n",
       "      <td>138.000000</td>\n",
       "      <td>137.000000</td>\n",
       "      <td>117.500000</td>\n",
       "      <td>108.800003</td>\n",
       "      <td>140.000000</td>\n",
       "    </tr>\n",
       "    <tr>\n",
       "      <th>1973-01-01</th>\n",
       "      <td>102.900002</td>\n",
       "      <td>108.000000</td>\n",
       "      <td>124.400002</td>\n",
       "      <td>137.899994</td>\n",
       "      <td>109.300003</td>\n",
       "      <td>154.699997</td>\n",
       "      <td>119.800003</td>\n",
       "      <td>121.800003</td>\n",
       "      <td>124.400002</td>\n",
       "      <td>156.000000</td>\n",
       "      <td>...</td>\n",
       "      <td>125.500000</td>\n",
       "      <td>103.500000</td>\n",
       "      <td>109.699997</td>\n",
       "      <td>110.400002</td>\n",
       "      <td>72.699997</td>\n",
       "      <td>146.800003</td>\n",
       "      <td>143.100006</td>\n",
       "      <td>116.599998</td>\n",
       "      <td>109.500000</td>\n",
       "      <td>141.199997</td>\n",
       "    </tr>\n",
       "    <tr>\n",
       "      <th>1974-01-01</th>\n",
       "      <td>108.199997</td>\n",
       "      <td>109.699997</td>\n",
       "      <td>126.699997</td>\n",
       "      <td>132.800003</td>\n",
       "      <td>112.400002</td>\n",
       "      <td>151.300003</td>\n",
       "      <td>123.699997</td>\n",
       "      <td>125.599998</td>\n",
       "      <td>131.899994</td>\n",
       "      <td>159.600006</td>\n",
       "      <td>...</td>\n",
       "      <td>129.699997</td>\n",
       "      <td>108.400002</td>\n",
       "      <td>114.800003</td>\n",
       "      <td>114.699997</td>\n",
       "      <td>75.599998</td>\n",
       "      <td>151.800003</td>\n",
       "      <td>149.600006</td>\n",
       "      <td>119.900002</td>\n",
       "      <td>111.800003</td>\n",
       "      <td>145.800003</td>\n",
       "    </tr>\n",
       "  </tbody>\n",
       "</table>\n",
       "<p>5 rows × 39 columns</p>\n",
       "</div>"
      ],
      "text/plain": [
       "State          Alabama    Arkansas  California    Colorado  Connecticut  \\\n",
       "Year                                                                      \n",
       "1970-01-01   89.800003  100.300003  123.000000  124.800003   120.000000   \n",
       "1971-01-01   95.400002  104.099998  121.000000  125.500000   117.599998   \n",
       "1972-01-01  101.099998  103.900002  123.500000  134.300003   110.800003   \n",
       "1973-01-01  102.900002  108.000000  124.400002  137.899994   109.300003   \n",
       "1974-01-01  108.199997  109.699997  126.699997  132.800003   112.400002   \n",
       "\n",
       "State         Delaware     Georgia       Idaho    Illinois     Indiana  ...  \\\n",
       "Year                                                                    ...   \n",
       "1970-01-01  155.000000  109.900002  102.400002  124.800003  134.600006  ...   \n",
       "1971-01-01  161.100006  115.699997  108.500000  125.599998  139.300003  ...   \n",
       "1972-01-01  156.300003  117.000000  126.099998  126.599998  149.199997  ...   \n",
       "1973-01-01  154.699997  119.800003  121.800003  124.400002  156.000000  ...   \n",
       "1974-01-01  151.300003  123.699997  125.599998  131.899994  159.600006  ...   \n",
       "\n",
       "State       South Carolina  South Dakota   Tennessee       Texas       Utah  \\\n",
       "Year                                                                          \n",
       "1970-01-01      103.599998     92.699997   99.800003  106.400002  65.500000   \n",
       "1971-01-01      115.000000     96.699997  106.300003  108.900002  67.699997   \n",
       "1972-01-01      118.699997    103.000000  111.500000  108.599998  71.300003   \n",
       "1973-01-01      125.500000    103.500000  109.699997  110.400002  72.699997   \n",
       "1974-01-01      129.699997    108.400002  114.800003  114.699997  75.599998   \n",
       "\n",
       "State          Vermont    Virginia  West Virginia   Wisconsin     Wyoming  \n",
       "Year                                                                       \n",
       "1970-01-01  122.599998  124.300003     114.500000  106.400002  132.199997  \n",
       "1971-01-01  124.400002  128.399994     111.500000  105.400002  131.699997  \n",
       "1972-01-01  138.000000  137.000000     117.500000  108.800003  140.000000  \n",
       "1973-01-01  146.800003  143.100006     116.599998  109.500000  141.199997  \n",
       "1974-01-01  151.800003  149.600006     119.900002  111.800003  145.800003  \n",
       "\n",
       "[5 rows x 39 columns]"
      ]
     },
     "execution_count": 6,
     "metadata": {},
     "output_type": "execute_result"
    }
   ],
   "source": [
    "df.head()"
   ]
  },
  {
   "cell_type": "code",
   "execution_count": 7,
   "id": "ee3c727e-d07f-4c0f-8697-127ff0764bab",
   "metadata": {},
   "outputs": [],
   "source": [
    "X = df.drop(columns=\"California\")\n",
    "y = df[\"California\"]"
   ]
  },
  {
   "cell_type": "markdown",
   "id": "3669e78a-fbec-4d54-8b40-891d99521d06",
   "metadata": {},
   "source": [
    "# Generate predictions for the Synthetic Control group"
   ]
  },
  {
   "cell_type": "code",
   "execution_count": 8,
   "id": "304caacf-47ab-4d86-876d-f101ae5ce8a3",
   "metadata": {},
   "outputs": [],
   "source": [
    "sc = SyntheticControl(treatment_start=datetime(year=1989, month=1, day=1))"
   ]
  },
  {
   "cell_type": "code",
   "execution_count": 9,
   "id": "6e4e08b5-7946-4380-8308-803bd85c0370",
   "metadata": {},
   "outputs": [],
   "source": [
    "y_synth = sc.fit_predict(X, y)"
   ]
  },
  {
   "cell_type": "code",
   "execution_count": 10,
   "id": "f9162dda-2d55-4fb3-a357-97a83cfa574c",
   "metadata": {},
   "outputs": [],
   "source": [
    "y_ci = sc.get_confidence_interval(X, y)"
   ]
  },
  {
   "cell_type": "code",
   "execution_count": 11,
   "id": "b95062eb-a337-4f97-a732-4228cfa48609",
   "metadata": {},
   "outputs": [
    {
     "data": {
      "text/html": [
       "<div>\n",
       "<style scoped>\n",
       "    .dataframe tbody tr th:only-of-type {\n",
       "        vertical-align: middle;\n",
       "    }\n",
       "\n",
       "    .dataframe tbody tr th {\n",
       "        vertical-align: top;\n",
       "    }\n",
       "\n",
       "    .dataframe thead th {\n",
       "        text-align: right;\n",
       "    }\n",
       "</style>\n",
       "<table border=\"1\" class=\"dataframe\">\n",
       "  <thead>\n",
       "    <tr style=\"text-align: right;\">\n",
       "      <th></th>\n",
       "      <th>5</th>\n",
       "      <th>10</th>\n",
       "      <th>20</th>\n",
       "      <th>30</th>\n",
       "      <th>40</th>\n",
       "      <th>50</th>\n",
       "      <th>60</th>\n",
       "      <th>70</th>\n",
       "      <th>80</th>\n",
       "      <th>90</th>\n",
       "      <th>95</th>\n",
       "    </tr>\n",
       "    <tr>\n",
       "      <th>Year</th>\n",
       "      <th></th>\n",
       "      <th></th>\n",
       "      <th></th>\n",
       "      <th></th>\n",
       "      <th></th>\n",
       "      <th></th>\n",
       "      <th></th>\n",
       "      <th></th>\n",
       "      <th></th>\n",
       "      <th></th>\n",
       "      <th></th>\n",
       "    </tr>\n",
       "  </thead>\n",
       "  <tbody>\n",
       "    <tr>\n",
       "      <th>1970-01-01</th>\n",
       "      <td>91.282443</td>\n",
       "      <td>94.042580</td>\n",
       "      <td>98.237214</td>\n",
       "      <td>99.703054</td>\n",
       "      <td>100.592195</td>\n",
       "      <td>103.187232</td>\n",
       "      <td>106.352095</td>\n",
       "      <td>110.131863</td>\n",
       "      <td>113.668897</td>\n",
       "      <td>118.099523</td>\n",
       "      <td>119.188477</td>\n",
       "    </tr>\n",
       "    <tr>\n",
       "      <th>1971-01-01</th>\n",
       "      <td>95.856289</td>\n",
       "      <td>96.266624</td>\n",
       "      <td>101.180542</td>\n",
       "      <td>102.773978</td>\n",
       "      <td>105.034041</td>\n",
       "      <td>107.623240</td>\n",
       "      <td>109.646319</td>\n",
       "      <td>110.758018</td>\n",
       "      <td>116.187789</td>\n",
       "      <td>120.327445</td>\n",
       "      <td>121.473699</td>\n",
       "    </tr>\n",
       "    <tr>\n",
       "      <th>1972-01-01</th>\n",
       "      <td>99.686277</td>\n",
       "      <td>100.983268</td>\n",
       "      <td>102.490851</td>\n",
       "      <td>105.502366</td>\n",
       "      <td>108.969568</td>\n",
       "      <td>113.815524</td>\n",
       "      <td>118.516587</td>\n",
       "      <td>120.399000</td>\n",
       "      <td>122.515762</td>\n",
       "      <td>126.498340</td>\n",
       "      <td>128.558836</td>\n",
       "    </tr>\n",
       "    <tr>\n",
       "      <th>1973-01-01</th>\n",
       "      <td>102.342662</td>\n",
       "      <td>104.223019</td>\n",
       "      <td>105.645804</td>\n",
       "      <td>107.116398</td>\n",
       "      <td>110.611227</td>\n",
       "      <td>113.369194</td>\n",
       "      <td>118.846349</td>\n",
       "      <td>121.706114</td>\n",
       "      <td>123.705712</td>\n",
       "      <td>125.824220</td>\n",
       "      <td>127.483143</td>\n",
       "    </tr>\n",
       "    <tr>\n",
       "      <th>1974-01-01</th>\n",
       "      <td>106.623464</td>\n",
       "      <td>107.534218</td>\n",
       "      <td>108.278568</td>\n",
       "      <td>110.622431</td>\n",
       "      <td>114.225262</td>\n",
       "      <td>114.982395</td>\n",
       "      <td>117.200519</td>\n",
       "      <td>120.007048</td>\n",
       "      <td>124.017490</td>\n",
       "      <td>126.702653</td>\n",
       "      <td>128.751026</td>\n",
       "    </tr>\n",
       "  </tbody>\n",
       "</table>\n",
       "</div>"
      ],
      "text/plain": [
       "                    5           10          20          30          40  \\\n",
       "Year                                                                     \n",
       "1970-01-01   91.282443   94.042580   98.237214   99.703054  100.592195   \n",
       "1971-01-01   95.856289   96.266624  101.180542  102.773978  105.034041   \n",
       "1972-01-01   99.686277  100.983268  102.490851  105.502366  108.969568   \n",
       "1973-01-01  102.342662  104.223019  105.645804  107.116398  110.611227   \n",
       "1974-01-01  106.623464  107.534218  108.278568  110.622431  114.225262   \n",
       "\n",
       "                    50          60          70          80          90  \\\n",
       "Year                                                                     \n",
       "1970-01-01  103.187232  106.352095  110.131863  113.668897  118.099523   \n",
       "1971-01-01  107.623240  109.646319  110.758018  116.187789  120.327445   \n",
       "1972-01-01  113.815524  118.516587  120.399000  122.515762  126.498340   \n",
       "1973-01-01  113.369194  118.846349  121.706114  123.705712  125.824220   \n",
       "1974-01-01  114.982395  117.200519  120.007048  124.017490  126.702653   \n",
       "\n",
       "                    95  \n",
       "Year                    \n",
       "1970-01-01  119.188477  \n",
       "1971-01-01  121.473699  \n",
       "1972-01-01  128.558836  \n",
       "1973-01-01  127.483143  \n",
       "1974-01-01  128.751026  "
      ]
     },
     "execution_count": 11,
     "metadata": {},
     "output_type": "execute_result"
    }
   ],
   "source": [
    "y_ci.head()"
   ]
  },
  {
   "cell_type": "markdown",
   "id": "6bcdc24b",
   "metadata": {},
   "source": [
    "# Display predictions for the Synthetic Control group"
   ]
  },
  {
   "cell_type": "code",
   "execution_count": 12,
   "id": "72625624-5e9d-47e5-930d-b1b4dfe9619c",
   "metadata": {},
   "outputs": [],
   "source": [
    "import plotly.graph_objects as go\n",
    "from plotly.colors import DEFAULT_PLOTLY_COLORS"
   ]
  },
  {
   "cell_type": "code",
   "execution_count": 13,
   "id": "739a1c7d-c1d2-4a20-b3d5-b33106703706",
   "metadata": {},
   "outputs": [
    {
     "data": {
      "text/plain": [
       "array([118.79500632, 122.28449874, 127.60450826, 125.93954562,\n",
       "       125.74886499, 126.00264499, 130.3594663 , 127.18658768,\n",
       "       125.05205004, 121.29515995, 119.14728402, 118.25096397,\n",
       "       115.76062695, 111.60937619, 104.11845813, 101.7857342 ,\n",
       "        99.11833624,  97.90294358,  92.73202874,  89.41045432,\n",
       "        84.26021441,  80.23078836,  79.10987468,  79.57229186,\n",
       "        79.00677051,  79.73631645,  78.77939848,  80.44393248,\n",
       "        81.06456658,  79.61785942,  72.59992477])"
      ]
     },
     "execution_count": 13,
     "metadata": {},
     "output_type": "execute_result"
    }
   ],
   "source": [
    "y_synth"
   ]
  },
  {
   "cell_type": "code",
   "execution_count": 20,
   "id": "e9846e56-0aca-4205-a998-4fbf5c5bcf10",
   "metadata": {},
   "outputs": [],
   "source": [
    "plot_data = [\n",
    "    go.Scatter(x=y.index, y=y),\n",
    "    go.Scatter(x=y.index, y=y_synth),\n",
    "    # go.Scatter(x=time, y=quantile_synth_data[0.5], line_color=DEFAULT_PLOTLY_COLORS[1], name=\"Synthetic Control Group\"),\n",
    "    # go.Scatter(x=time, y=quantile_synth_data[0.4], line_color=opacity_color, fill=\"tonexty\", fillcolor=opacity_color, showlegend=True, name=\"90% Confidence Interval\", legendgroup=\"CI\"),\n",
    "    # go.Scatter(x=time, y=quantile_synth_data[0.6], line_color=opacity_color, fill=\"tonexty\", fillcolor=opacity_color, showlegend=False, legendgroup=\"CI\"),\n",
    "    # go.Scatter(x=time, y=quantile_synth_data[0.3], line_color=opacity_color, fill=\"tonexty\", fillcolor=opacity_color, showlegend=False, legendgroup=\"CI\"),\n",
    "    # go.Scatter(x=time, y=quantile_synth_data[0.7], line_color=opacity_color, fill=\"tonexty\", fillcolor=opacity_color, showlegend=False, legendgroup=\"CI\"),\n",
    "    # go.Scatter(x=time, y=quantile_synth_data[0.2], line_color=opacity_color, fill=\"tonexty\", fillcolor=opacity_color, showlegend=False, legendgroup=\"CI\"),\n",
    "    # go.Scatter(x=time, y=quantile_synth_data[0.8], line_color=opacity_color, fill=\"tonexty\", fillcolor=opacity_color, showlegend=False, legendgroup=\"CI\"),\n",
    "    # go.Scatter(x=time, y=quantile_synth_data[0.1], line_color=opacity_color, fill=\"tonexty\", fillcolor=opacity_color, showlegend=False, legendgroup=\"CI\"),\n",
    "    # go.Scatter(x=time, y=quantile_synth_data[0.9], line_color=opacity_color, fill=\"tonexty\", fillcolor=opacity_color, showlegend=False, legendgroup=\"CI\"),\n",
    "    # go.Scatter(x=time, y=quantile_synth_data[0.05], line_color=opacity_color, fill=\"tonexty\", fillcolor=opacity_color, showlegend=False, legendgroup=\"CI\"),\n",
    "    # go.Scatter(x=time, y=quantile_synth_data[0.95], line_color=opacity_color, fill=\"tonexty\", fillcolor=opacity_color, showlegend=False, legendgroup=\"CI\"),\n",
    "    # go.Scatter(x=[promotion_date] *2, y=[0, 1], mode=\"lines\", line={\"color\": \"black\", \"dash\": \"dash\"}, name=\"Promo start\"),\n",
    "    # go.Scatter(x=[promo_end_date] *2, y=[0, 1], mode=\"lines\", line={\"color\": \"black\", \"dash\": \"dot\"}, name=\"Promo end\")\n",
    "]"
   ]
  },
  {
   "cell_type": "code",
   "execution_count": null,
   "id": "06f421bf",
   "metadata": {},
   "outputs": [],
   "source": [
    "go.Layout()"
   ]
  },
  {
   "cell_type": "code",
   "execution_count": 21,
   "id": "eeb91fc7-d573-4689-855a-edfaf7aee00d",
   "metadata": {},
   "outputs": [
    {
     "data": {
      "application/vnd.plotly.v1+json": {
       "config": {
        "plotlyServerURL": "https://plot.ly"
       },
       "data": [
        {
         "type": "scatter",
         "x": [
          "1970-01-01T00:00:00",
          "1971-01-01T00:00:00",
          "1972-01-01T00:00:00",
          "1973-01-01T00:00:00",
          "1974-01-01T00:00:00",
          "1975-01-01T00:00:00",
          "1976-01-01T00:00:00",
          "1977-01-01T00:00:00",
          "1978-01-01T00:00:00",
          "1979-01-01T00:00:00",
          "1980-01-01T00:00:00",
          "1981-01-01T00:00:00",
          "1982-01-01T00:00:00",
          "1983-01-01T00:00:00",
          "1984-01-01T00:00:00",
          "1985-01-01T00:00:00",
          "1986-01-01T00:00:00",
          "1987-01-01T00:00:00",
          "1988-01-01T00:00:00",
          "1989-01-01T00:00:00",
          "1990-01-01T00:00:00",
          "1991-01-01T00:00:00",
          "1992-01-01T00:00:00",
          "1993-01-01T00:00:00",
          "1994-01-01T00:00:00",
          "1995-01-01T00:00:00",
          "1996-01-01T00:00:00",
          "1997-01-01T00:00:00",
          "1998-01-01T00:00:00",
          "1999-01-01T00:00:00",
          "2000-01-01T00:00:00"
         ],
         "y": [
          123,
          121,
          123.5,
          124.4000015,
          126.6999969,
          127.0999985,
          128,
          126.4000015,
          126.0999985,
          121.9000015,
          120.1999969,
          118.5999985,
          115.4000015,
          110.8000031,
          104.8000031,
          102.8000031,
          99.69999695,
          97.5,
          90.09999847,
          82.40000153,
          77.80000305,
          68.69999695,
          67.5,
          63.40000153,
          58.59999847,
          56.40000153,
          54.5,
          53.79999924,
          52.29999924,
          47.20000076,
          41.59999847
         ]
        },
        {
         "type": "scatter",
         "x": [
          "1970-01-01T00:00:00",
          "1971-01-01T00:00:00",
          "1972-01-01T00:00:00",
          "1973-01-01T00:00:00",
          "1974-01-01T00:00:00",
          "1975-01-01T00:00:00",
          "1976-01-01T00:00:00",
          "1977-01-01T00:00:00",
          "1978-01-01T00:00:00",
          "1979-01-01T00:00:00",
          "1980-01-01T00:00:00",
          "1981-01-01T00:00:00",
          "1982-01-01T00:00:00",
          "1983-01-01T00:00:00",
          "1984-01-01T00:00:00",
          "1985-01-01T00:00:00",
          "1986-01-01T00:00:00",
          "1987-01-01T00:00:00",
          "1988-01-01T00:00:00",
          "1989-01-01T00:00:00",
          "1990-01-01T00:00:00",
          "1991-01-01T00:00:00",
          "1992-01-01T00:00:00",
          "1993-01-01T00:00:00",
          "1994-01-01T00:00:00",
          "1995-01-01T00:00:00",
          "1996-01-01T00:00:00",
          "1997-01-01T00:00:00",
          "1998-01-01T00:00:00",
          "1999-01-01T00:00:00",
          "2000-01-01T00:00:00"
         ],
         "y": [
          118.79500631616624,
          122.28449873505234,
          127.60450826118014,
          125.9395456197778,
          125.74886499089274,
          126.00264498827002,
          130.3594662980016,
          127.18658768316017,
          125.05205003934995,
          121.29515994666093,
          119.14728401577395,
          118.25096397367685,
          115.76062694869057,
          111.60937619472412,
          104.11845813220785,
          101.78573420194094,
          99.11833623543812,
          97.90294357830726,
          92.73202874327318,
          89.41045431580393,
          84.2602144117951,
          80.23078836300228,
          79.10987468301302,
          79.5722918594881,
          79.00677050635092,
          79.7363164492799,
          78.77939848206536,
          80.44393248364759,
          81.06456658254761,
          79.61785942055108,
          72.59992477467625
         ]
        }
       ],
       "layout": {
        "template": {
         "data": {
          "bar": [
           {
            "error_x": {
             "color": "#2a3f5f"
            },
            "error_y": {
             "color": "#2a3f5f"
            },
            "marker": {
             "line": {
              "color": "#E5ECF6",
              "width": 0.5
             },
             "pattern": {
              "fillmode": "overlay",
              "size": 10,
              "solidity": 0.2
             }
            },
            "type": "bar"
           }
          ],
          "barpolar": [
           {
            "marker": {
             "line": {
              "color": "#E5ECF6",
              "width": 0.5
             },
             "pattern": {
              "fillmode": "overlay",
              "size": 10,
              "solidity": 0.2
             }
            },
            "type": "barpolar"
           }
          ],
          "carpet": [
           {
            "aaxis": {
             "endlinecolor": "#2a3f5f",
             "gridcolor": "white",
             "linecolor": "white",
             "minorgridcolor": "white",
             "startlinecolor": "#2a3f5f"
            },
            "baxis": {
             "endlinecolor": "#2a3f5f",
             "gridcolor": "white",
             "linecolor": "white",
             "minorgridcolor": "white",
             "startlinecolor": "#2a3f5f"
            },
            "type": "carpet"
           }
          ],
          "choropleth": [
           {
            "colorbar": {
             "outlinewidth": 0,
             "ticks": ""
            },
            "type": "choropleth"
           }
          ],
          "contour": [
           {
            "colorbar": {
             "outlinewidth": 0,
             "ticks": ""
            },
            "colorscale": [
             [
              0,
              "#0d0887"
             ],
             [
              0.1111111111111111,
              "#46039f"
             ],
             [
              0.2222222222222222,
              "#7201a8"
             ],
             [
              0.3333333333333333,
              "#9c179e"
             ],
             [
              0.4444444444444444,
              "#bd3786"
             ],
             [
              0.5555555555555556,
              "#d8576b"
             ],
             [
              0.6666666666666666,
              "#ed7953"
             ],
             [
              0.7777777777777778,
              "#fb9f3a"
             ],
             [
              0.8888888888888888,
              "#fdca26"
             ],
             [
              1,
              "#f0f921"
             ]
            ],
            "type": "contour"
           }
          ],
          "contourcarpet": [
           {
            "colorbar": {
             "outlinewidth": 0,
             "ticks": ""
            },
            "type": "contourcarpet"
           }
          ],
          "heatmap": [
           {
            "colorbar": {
             "outlinewidth": 0,
             "ticks": ""
            },
            "colorscale": [
             [
              0,
              "#0d0887"
             ],
             [
              0.1111111111111111,
              "#46039f"
             ],
             [
              0.2222222222222222,
              "#7201a8"
             ],
             [
              0.3333333333333333,
              "#9c179e"
             ],
             [
              0.4444444444444444,
              "#bd3786"
             ],
             [
              0.5555555555555556,
              "#d8576b"
             ],
             [
              0.6666666666666666,
              "#ed7953"
             ],
             [
              0.7777777777777778,
              "#fb9f3a"
             ],
             [
              0.8888888888888888,
              "#fdca26"
             ],
             [
              1,
              "#f0f921"
             ]
            ],
            "type": "heatmap"
           }
          ],
          "heatmapgl": [
           {
            "colorbar": {
             "outlinewidth": 0,
             "ticks": ""
            },
            "colorscale": [
             [
              0,
              "#0d0887"
             ],
             [
              0.1111111111111111,
              "#46039f"
             ],
             [
              0.2222222222222222,
              "#7201a8"
             ],
             [
              0.3333333333333333,
              "#9c179e"
             ],
             [
              0.4444444444444444,
              "#bd3786"
             ],
             [
              0.5555555555555556,
              "#d8576b"
             ],
             [
              0.6666666666666666,
              "#ed7953"
             ],
             [
              0.7777777777777778,
              "#fb9f3a"
             ],
             [
              0.8888888888888888,
              "#fdca26"
             ],
             [
              1,
              "#f0f921"
             ]
            ],
            "type": "heatmapgl"
           }
          ],
          "histogram": [
           {
            "marker": {
             "pattern": {
              "fillmode": "overlay",
              "size": 10,
              "solidity": 0.2
             }
            },
            "type": "histogram"
           }
          ],
          "histogram2d": [
           {
            "colorbar": {
             "outlinewidth": 0,
             "ticks": ""
            },
            "colorscale": [
             [
              0,
              "#0d0887"
             ],
             [
              0.1111111111111111,
              "#46039f"
             ],
             [
              0.2222222222222222,
              "#7201a8"
             ],
             [
              0.3333333333333333,
              "#9c179e"
             ],
             [
              0.4444444444444444,
              "#bd3786"
             ],
             [
              0.5555555555555556,
              "#d8576b"
             ],
             [
              0.6666666666666666,
              "#ed7953"
             ],
             [
              0.7777777777777778,
              "#fb9f3a"
             ],
             [
              0.8888888888888888,
              "#fdca26"
             ],
             [
              1,
              "#f0f921"
             ]
            ],
            "type": "histogram2d"
           }
          ],
          "histogram2dcontour": [
           {
            "colorbar": {
             "outlinewidth": 0,
             "ticks": ""
            },
            "colorscale": [
             [
              0,
              "#0d0887"
             ],
             [
              0.1111111111111111,
              "#46039f"
             ],
             [
              0.2222222222222222,
              "#7201a8"
             ],
             [
              0.3333333333333333,
              "#9c179e"
             ],
             [
              0.4444444444444444,
              "#bd3786"
             ],
             [
              0.5555555555555556,
              "#d8576b"
             ],
             [
              0.6666666666666666,
              "#ed7953"
             ],
             [
              0.7777777777777778,
              "#fb9f3a"
             ],
             [
              0.8888888888888888,
              "#fdca26"
             ],
             [
              1,
              "#f0f921"
             ]
            ],
            "type": "histogram2dcontour"
           }
          ],
          "mesh3d": [
           {
            "colorbar": {
             "outlinewidth": 0,
             "ticks": ""
            },
            "type": "mesh3d"
           }
          ],
          "parcoords": [
           {
            "line": {
             "colorbar": {
              "outlinewidth": 0,
              "ticks": ""
             }
            },
            "type": "parcoords"
           }
          ],
          "pie": [
           {
            "automargin": true,
            "type": "pie"
           }
          ],
          "scatter": [
           {
            "fillpattern": {
             "fillmode": "overlay",
             "size": 10,
             "solidity": 0.2
            },
            "type": "scatter"
           }
          ],
          "scatter3d": [
           {
            "line": {
             "colorbar": {
              "outlinewidth": 0,
              "ticks": ""
             }
            },
            "marker": {
             "colorbar": {
              "outlinewidth": 0,
              "ticks": ""
             }
            },
            "type": "scatter3d"
           }
          ],
          "scattercarpet": [
           {
            "marker": {
             "colorbar": {
              "outlinewidth": 0,
              "ticks": ""
             }
            },
            "type": "scattercarpet"
           }
          ],
          "scattergeo": [
           {
            "marker": {
             "colorbar": {
              "outlinewidth": 0,
              "ticks": ""
             }
            },
            "type": "scattergeo"
           }
          ],
          "scattergl": [
           {
            "marker": {
             "colorbar": {
              "outlinewidth": 0,
              "ticks": ""
             }
            },
            "type": "scattergl"
           }
          ],
          "scattermapbox": [
           {
            "marker": {
             "colorbar": {
              "outlinewidth": 0,
              "ticks": ""
             }
            },
            "type": "scattermapbox"
           }
          ],
          "scatterpolar": [
           {
            "marker": {
             "colorbar": {
              "outlinewidth": 0,
              "ticks": ""
             }
            },
            "type": "scatterpolar"
           }
          ],
          "scatterpolargl": [
           {
            "marker": {
             "colorbar": {
              "outlinewidth": 0,
              "ticks": ""
             }
            },
            "type": "scatterpolargl"
           }
          ],
          "scatterternary": [
           {
            "marker": {
             "colorbar": {
              "outlinewidth": 0,
              "ticks": ""
             }
            },
            "type": "scatterternary"
           }
          ],
          "surface": [
           {
            "colorbar": {
             "outlinewidth": 0,
             "ticks": ""
            },
            "colorscale": [
             [
              0,
              "#0d0887"
             ],
             [
              0.1111111111111111,
              "#46039f"
             ],
             [
              0.2222222222222222,
              "#7201a8"
             ],
             [
              0.3333333333333333,
              "#9c179e"
             ],
             [
              0.4444444444444444,
              "#bd3786"
             ],
             [
              0.5555555555555556,
              "#d8576b"
             ],
             [
              0.6666666666666666,
              "#ed7953"
             ],
             [
              0.7777777777777778,
              "#fb9f3a"
             ],
             [
              0.8888888888888888,
              "#fdca26"
             ],
             [
              1,
              "#f0f921"
             ]
            ],
            "type": "surface"
           }
          ],
          "table": [
           {
            "cells": {
             "fill": {
              "color": "#EBF0F8"
             },
             "line": {
              "color": "white"
             }
            },
            "header": {
             "fill": {
              "color": "#C8D4E3"
             },
             "line": {
              "color": "white"
             }
            },
            "type": "table"
           }
          ]
         },
         "layout": {
          "annotationdefaults": {
           "arrowcolor": "#2a3f5f",
           "arrowhead": 0,
           "arrowwidth": 1
          },
          "autotypenumbers": "strict",
          "coloraxis": {
           "colorbar": {
            "outlinewidth": 0,
            "ticks": ""
           }
          },
          "colorscale": {
           "diverging": [
            [
             0,
             "#8e0152"
            ],
            [
             0.1,
             "#c51b7d"
            ],
            [
             0.2,
             "#de77ae"
            ],
            [
             0.3,
             "#f1b6da"
            ],
            [
             0.4,
             "#fde0ef"
            ],
            [
             0.5,
             "#f7f7f7"
            ],
            [
             0.6,
             "#e6f5d0"
            ],
            [
             0.7,
             "#b8e186"
            ],
            [
             0.8,
             "#7fbc41"
            ],
            [
             0.9,
             "#4d9221"
            ],
            [
             1,
             "#276419"
            ]
           ],
           "sequential": [
            [
             0,
             "#0d0887"
            ],
            [
             0.1111111111111111,
             "#46039f"
            ],
            [
             0.2222222222222222,
             "#7201a8"
            ],
            [
             0.3333333333333333,
             "#9c179e"
            ],
            [
             0.4444444444444444,
             "#bd3786"
            ],
            [
             0.5555555555555556,
             "#d8576b"
            ],
            [
             0.6666666666666666,
             "#ed7953"
            ],
            [
             0.7777777777777778,
             "#fb9f3a"
            ],
            [
             0.8888888888888888,
             "#fdca26"
            ],
            [
             1,
             "#f0f921"
            ]
           ],
           "sequentialminus": [
            [
             0,
             "#0d0887"
            ],
            [
             0.1111111111111111,
             "#46039f"
            ],
            [
             0.2222222222222222,
             "#7201a8"
            ],
            [
             0.3333333333333333,
             "#9c179e"
            ],
            [
             0.4444444444444444,
             "#bd3786"
            ],
            [
             0.5555555555555556,
             "#d8576b"
            ],
            [
             0.6666666666666666,
             "#ed7953"
            ],
            [
             0.7777777777777778,
             "#fb9f3a"
            ],
            [
             0.8888888888888888,
             "#fdca26"
            ],
            [
             1,
             "#f0f921"
            ]
           ]
          },
          "colorway": [
           "#636efa",
           "#EF553B",
           "#00cc96",
           "#ab63fa",
           "#FFA15A",
           "#19d3f3",
           "#FF6692",
           "#B6E880",
           "#FF97FF",
           "#FECB52"
          ],
          "font": {
           "color": "#2a3f5f"
          },
          "geo": {
           "bgcolor": "white",
           "lakecolor": "white",
           "landcolor": "#E5ECF6",
           "showlakes": true,
           "showland": true,
           "subunitcolor": "white"
          },
          "hoverlabel": {
           "align": "left"
          },
          "hovermode": "closest",
          "mapbox": {
           "style": "light"
          },
          "paper_bgcolor": "white",
          "plot_bgcolor": "#E5ECF6",
          "polar": {
           "angularaxis": {
            "gridcolor": "white",
            "linecolor": "white",
            "ticks": ""
           },
           "bgcolor": "#E5ECF6",
           "radialaxis": {
            "gridcolor": "white",
            "linecolor": "white",
            "ticks": ""
           }
          },
          "scene": {
           "xaxis": {
            "backgroundcolor": "#E5ECF6",
            "gridcolor": "white",
            "gridwidth": 2,
            "linecolor": "white",
            "showbackground": true,
            "ticks": "",
            "zerolinecolor": "white"
           },
           "yaxis": {
            "backgroundcolor": "#E5ECF6",
            "gridcolor": "white",
            "gridwidth": 2,
            "linecolor": "white",
            "showbackground": true,
            "ticks": "",
            "zerolinecolor": "white"
           },
           "zaxis": {
            "backgroundcolor": "#E5ECF6",
            "gridcolor": "white",
            "gridwidth": 2,
            "linecolor": "white",
            "showbackground": true,
            "ticks": "",
            "zerolinecolor": "white"
           }
          },
          "shapedefaults": {
           "line": {
            "color": "#2a3f5f"
           }
          },
          "ternary": {
           "aaxis": {
            "gridcolor": "white",
            "linecolor": "white",
            "ticks": ""
           },
           "baxis": {
            "gridcolor": "white",
            "linecolor": "white",
            "ticks": ""
           },
           "bgcolor": "#E5ECF6",
           "caxis": {
            "gridcolor": "white",
            "linecolor": "white",
            "ticks": ""
           }
          },
          "title": {
           "x": 0.05
          },
          "xaxis": {
           "automargin": true,
           "gridcolor": "white",
           "linecolor": "white",
           "ticks": "",
           "title": {
            "standoff": 15
           },
           "zerolinecolor": "white",
           "zerolinewidth": 2
          },
          "yaxis": {
           "automargin": true,
           "gridcolor": "white",
           "linecolor": "white",
           "ticks": "",
           "title": {
            "standoff": 15
           },
           "zerolinecolor": "white",
           "zerolinewidth": 2
          }
         }
        }
       }
      },
      "text/html": [
       "<div>                            <div id=\"c6d462b7-1ce0-4376-a1c3-018db85302f6\" class=\"plotly-graph-div\" style=\"height:525px; width:100%;\"></div>            <script type=\"text/javascript\">                require([\"plotly\"], function(Plotly) {                    window.PLOTLYENV=window.PLOTLYENV || {};                                    if (document.getElementById(\"c6d462b7-1ce0-4376-a1c3-018db85302f6\")) {                    Plotly.newPlot(                        \"c6d462b7-1ce0-4376-a1c3-018db85302f6\",                        [{\"x\":[\"1970-01-01T00:00:00\",\"1971-01-01T00:00:00\",\"1972-01-01T00:00:00\",\"1973-01-01T00:00:00\",\"1974-01-01T00:00:00\",\"1975-01-01T00:00:00\",\"1976-01-01T00:00:00\",\"1977-01-01T00:00:00\",\"1978-01-01T00:00:00\",\"1979-01-01T00:00:00\",\"1980-01-01T00:00:00\",\"1981-01-01T00:00:00\",\"1982-01-01T00:00:00\",\"1983-01-01T00:00:00\",\"1984-01-01T00:00:00\",\"1985-01-01T00:00:00\",\"1986-01-01T00:00:00\",\"1987-01-01T00:00:00\",\"1988-01-01T00:00:00\",\"1989-01-01T00:00:00\",\"1990-01-01T00:00:00\",\"1991-01-01T00:00:00\",\"1992-01-01T00:00:00\",\"1993-01-01T00:00:00\",\"1994-01-01T00:00:00\",\"1995-01-01T00:00:00\",\"1996-01-01T00:00:00\",\"1997-01-01T00:00:00\",\"1998-01-01T00:00:00\",\"1999-01-01T00:00:00\",\"2000-01-01T00:00:00\"],\"y\":[123.0,121.0,123.5,124.4000015,126.6999969,127.0999985,128.0,126.4000015,126.0999985,121.9000015,120.1999969,118.5999985,115.4000015,110.8000031,104.8000031,102.8000031,99.69999695,97.5,90.09999847,82.40000153,77.80000305,68.69999695,67.5,63.40000153,58.59999847,56.40000153,54.5,53.79999924,52.29999924,47.20000076,41.59999847],\"type\":\"scatter\"},{\"x\":[\"1970-01-01T00:00:00\",\"1971-01-01T00:00:00\",\"1972-01-01T00:00:00\",\"1973-01-01T00:00:00\",\"1974-01-01T00:00:00\",\"1975-01-01T00:00:00\",\"1976-01-01T00:00:00\",\"1977-01-01T00:00:00\",\"1978-01-01T00:00:00\",\"1979-01-01T00:00:00\",\"1980-01-01T00:00:00\",\"1981-01-01T00:00:00\",\"1982-01-01T00:00:00\",\"1983-01-01T00:00:00\",\"1984-01-01T00:00:00\",\"1985-01-01T00:00:00\",\"1986-01-01T00:00:00\",\"1987-01-01T00:00:00\",\"1988-01-01T00:00:00\",\"1989-01-01T00:00:00\",\"1990-01-01T00:00:00\",\"1991-01-01T00:00:00\",\"1992-01-01T00:00:00\",\"1993-01-01T00:00:00\",\"1994-01-01T00:00:00\",\"1995-01-01T00:00:00\",\"1996-01-01T00:00:00\",\"1997-01-01T00:00:00\",\"1998-01-01T00:00:00\",\"1999-01-01T00:00:00\",\"2000-01-01T00:00:00\"],\"y\":[118.79500631616624,122.28449873505234,127.60450826118014,125.9395456197778,125.74886499089274,126.00264498827002,130.3594662980016,127.18658768316017,125.05205003934995,121.29515994666093,119.14728401577395,118.25096397367685,115.76062694869057,111.60937619472412,104.11845813220785,101.78573420194094,99.11833623543812,97.90294357830726,92.73202874327318,89.41045431580393,84.2602144117951,80.23078836300228,79.10987468301302,79.5722918594881,79.00677050635092,79.7363164492799,78.77939848206536,80.44393248364759,81.06456658254761,79.61785942055108,72.59992477467625],\"type\":\"scatter\"}],                        {\"template\":{\"data\":{\"histogram2dcontour\":[{\"type\":\"histogram2dcontour\",\"colorbar\":{\"outlinewidth\":0,\"ticks\":\"\"},\"colorscale\":[[0.0,\"#0d0887\"],[0.1111111111111111,\"#46039f\"],[0.2222222222222222,\"#7201a8\"],[0.3333333333333333,\"#9c179e\"],[0.4444444444444444,\"#bd3786\"],[0.5555555555555556,\"#d8576b\"],[0.6666666666666666,\"#ed7953\"],[0.7777777777777778,\"#fb9f3a\"],[0.8888888888888888,\"#fdca26\"],[1.0,\"#f0f921\"]]}],\"choropleth\":[{\"type\":\"choropleth\",\"colorbar\":{\"outlinewidth\":0,\"ticks\":\"\"}}],\"histogram2d\":[{\"type\":\"histogram2d\",\"colorbar\":{\"outlinewidth\":0,\"ticks\":\"\"},\"colorscale\":[[0.0,\"#0d0887\"],[0.1111111111111111,\"#46039f\"],[0.2222222222222222,\"#7201a8\"],[0.3333333333333333,\"#9c179e\"],[0.4444444444444444,\"#bd3786\"],[0.5555555555555556,\"#d8576b\"],[0.6666666666666666,\"#ed7953\"],[0.7777777777777778,\"#fb9f3a\"],[0.8888888888888888,\"#fdca26\"],[1.0,\"#f0f921\"]]}],\"heatmap\":[{\"type\":\"heatmap\",\"colorbar\":{\"outlinewidth\":0,\"ticks\":\"\"},\"colorscale\":[[0.0,\"#0d0887\"],[0.1111111111111111,\"#46039f\"],[0.2222222222222222,\"#7201a8\"],[0.3333333333333333,\"#9c179e\"],[0.4444444444444444,\"#bd3786\"],[0.5555555555555556,\"#d8576b\"],[0.6666666666666666,\"#ed7953\"],[0.7777777777777778,\"#fb9f3a\"],[0.8888888888888888,\"#fdca26\"],[1.0,\"#f0f921\"]]}],\"heatmapgl\":[{\"type\":\"heatmapgl\",\"colorbar\":{\"outlinewidth\":0,\"ticks\":\"\"},\"colorscale\":[[0.0,\"#0d0887\"],[0.1111111111111111,\"#46039f\"],[0.2222222222222222,\"#7201a8\"],[0.3333333333333333,\"#9c179e\"],[0.4444444444444444,\"#bd3786\"],[0.5555555555555556,\"#d8576b\"],[0.6666666666666666,\"#ed7953\"],[0.7777777777777778,\"#fb9f3a\"],[0.8888888888888888,\"#fdca26\"],[1.0,\"#f0f921\"]]}],\"contourcarpet\":[{\"type\":\"contourcarpet\",\"colorbar\":{\"outlinewidth\":0,\"ticks\":\"\"}}],\"contour\":[{\"type\":\"contour\",\"colorbar\":{\"outlinewidth\":0,\"ticks\":\"\"},\"colorscale\":[[0.0,\"#0d0887\"],[0.1111111111111111,\"#46039f\"],[0.2222222222222222,\"#7201a8\"],[0.3333333333333333,\"#9c179e\"],[0.4444444444444444,\"#bd3786\"],[0.5555555555555556,\"#d8576b\"],[0.6666666666666666,\"#ed7953\"],[0.7777777777777778,\"#fb9f3a\"],[0.8888888888888888,\"#fdca26\"],[1.0,\"#f0f921\"]]}],\"surface\":[{\"type\":\"surface\",\"colorbar\":{\"outlinewidth\":0,\"ticks\":\"\"},\"colorscale\":[[0.0,\"#0d0887\"],[0.1111111111111111,\"#46039f\"],[0.2222222222222222,\"#7201a8\"],[0.3333333333333333,\"#9c179e\"],[0.4444444444444444,\"#bd3786\"],[0.5555555555555556,\"#d8576b\"],[0.6666666666666666,\"#ed7953\"],[0.7777777777777778,\"#fb9f3a\"],[0.8888888888888888,\"#fdca26\"],[1.0,\"#f0f921\"]]}],\"mesh3d\":[{\"type\":\"mesh3d\",\"colorbar\":{\"outlinewidth\":0,\"ticks\":\"\"}}],\"scatter\":[{\"fillpattern\":{\"fillmode\":\"overlay\",\"size\":10,\"solidity\":0.2},\"type\":\"scatter\"}],\"parcoords\":[{\"type\":\"parcoords\",\"line\":{\"colorbar\":{\"outlinewidth\":0,\"ticks\":\"\"}}}],\"scatterpolargl\":[{\"type\":\"scatterpolargl\",\"marker\":{\"colorbar\":{\"outlinewidth\":0,\"ticks\":\"\"}}}],\"bar\":[{\"error_x\":{\"color\":\"#2a3f5f\"},\"error_y\":{\"color\":\"#2a3f5f\"},\"marker\":{\"line\":{\"color\":\"#E5ECF6\",\"width\":0.5},\"pattern\":{\"fillmode\":\"overlay\",\"size\":10,\"solidity\":0.2}},\"type\":\"bar\"}],\"scattergeo\":[{\"type\":\"scattergeo\",\"marker\":{\"colorbar\":{\"outlinewidth\":0,\"ticks\":\"\"}}}],\"scatterpolar\":[{\"type\":\"scatterpolar\",\"marker\":{\"colorbar\":{\"outlinewidth\":0,\"ticks\":\"\"}}}],\"histogram\":[{\"marker\":{\"pattern\":{\"fillmode\":\"overlay\",\"size\":10,\"solidity\":0.2}},\"type\":\"histogram\"}],\"scattergl\":[{\"type\":\"scattergl\",\"marker\":{\"colorbar\":{\"outlinewidth\":0,\"ticks\":\"\"}}}],\"scatter3d\":[{\"type\":\"scatter3d\",\"line\":{\"colorbar\":{\"outlinewidth\":0,\"ticks\":\"\"}},\"marker\":{\"colorbar\":{\"outlinewidth\":0,\"ticks\":\"\"}}}],\"scattermapbox\":[{\"type\":\"scattermapbox\",\"marker\":{\"colorbar\":{\"outlinewidth\":0,\"ticks\":\"\"}}}],\"scatterternary\":[{\"type\":\"scatterternary\",\"marker\":{\"colorbar\":{\"outlinewidth\":0,\"ticks\":\"\"}}}],\"scattercarpet\":[{\"type\":\"scattercarpet\",\"marker\":{\"colorbar\":{\"outlinewidth\":0,\"ticks\":\"\"}}}],\"carpet\":[{\"aaxis\":{\"endlinecolor\":\"#2a3f5f\",\"gridcolor\":\"white\",\"linecolor\":\"white\",\"minorgridcolor\":\"white\",\"startlinecolor\":\"#2a3f5f\"},\"baxis\":{\"endlinecolor\":\"#2a3f5f\",\"gridcolor\":\"white\",\"linecolor\":\"white\",\"minorgridcolor\":\"white\",\"startlinecolor\":\"#2a3f5f\"},\"type\":\"carpet\"}],\"table\":[{\"cells\":{\"fill\":{\"color\":\"#EBF0F8\"},\"line\":{\"color\":\"white\"}},\"header\":{\"fill\":{\"color\":\"#C8D4E3\"},\"line\":{\"color\":\"white\"}},\"type\":\"table\"}],\"barpolar\":[{\"marker\":{\"line\":{\"color\":\"#E5ECF6\",\"width\":0.5},\"pattern\":{\"fillmode\":\"overlay\",\"size\":10,\"solidity\":0.2}},\"type\":\"barpolar\"}],\"pie\":[{\"automargin\":true,\"type\":\"pie\"}]},\"layout\":{\"autotypenumbers\":\"strict\",\"colorway\":[\"#636efa\",\"#EF553B\",\"#00cc96\",\"#ab63fa\",\"#FFA15A\",\"#19d3f3\",\"#FF6692\",\"#B6E880\",\"#FF97FF\",\"#FECB52\"],\"font\":{\"color\":\"#2a3f5f\"},\"hovermode\":\"closest\",\"hoverlabel\":{\"align\":\"left\"},\"paper_bgcolor\":\"white\",\"plot_bgcolor\":\"#E5ECF6\",\"polar\":{\"bgcolor\":\"#E5ECF6\",\"angularaxis\":{\"gridcolor\":\"white\",\"linecolor\":\"white\",\"ticks\":\"\"},\"radialaxis\":{\"gridcolor\":\"white\",\"linecolor\":\"white\",\"ticks\":\"\"}},\"ternary\":{\"bgcolor\":\"#E5ECF6\",\"aaxis\":{\"gridcolor\":\"white\",\"linecolor\":\"white\",\"ticks\":\"\"},\"baxis\":{\"gridcolor\":\"white\",\"linecolor\":\"white\",\"ticks\":\"\"},\"caxis\":{\"gridcolor\":\"white\",\"linecolor\":\"white\",\"ticks\":\"\"}},\"coloraxis\":{\"colorbar\":{\"outlinewidth\":0,\"ticks\":\"\"}},\"colorscale\":{\"sequential\":[[0.0,\"#0d0887\"],[0.1111111111111111,\"#46039f\"],[0.2222222222222222,\"#7201a8\"],[0.3333333333333333,\"#9c179e\"],[0.4444444444444444,\"#bd3786\"],[0.5555555555555556,\"#d8576b\"],[0.6666666666666666,\"#ed7953\"],[0.7777777777777778,\"#fb9f3a\"],[0.8888888888888888,\"#fdca26\"],[1.0,\"#f0f921\"]],\"sequentialminus\":[[0.0,\"#0d0887\"],[0.1111111111111111,\"#46039f\"],[0.2222222222222222,\"#7201a8\"],[0.3333333333333333,\"#9c179e\"],[0.4444444444444444,\"#bd3786\"],[0.5555555555555556,\"#d8576b\"],[0.6666666666666666,\"#ed7953\"],[0.7777777777777778,\"#fb9f3a\"],[0.8888888888888888,\"#fdca26\"],[1.0,\"#f0f921\"]],\"diverging\":[[0,\"#8e0152\"],[0.1,\"#c51b7d\"],[0.2,\"#de77ae\"],[0.3,\"#f1b6da\"],[0.4,\"#fde0ef\"],[0.5,\"#f7f7f7\"],[0.6,\"#e6f5d0\"],[0.7,\"#b8e186\"],[0.8,\"#7fbc41\"],[0.9,\"#4d9221\"],[1,\"#276419\"]]},\"xaxis\":{\"gridcolor\":\"white\",\"linecolor\":\"white\",\"ticks\":\"\",\"title\":{\"standoff\":15},\"zerolinecolor\":\"white\",\"automargin\":true,\"zerolinewidth\":2},\"yaxis\":{\"gridcolor\":\"white\",\"linecolor\":\"white\",\"ticks\":\"\",\"title\":{\"standoff\":15},\"zerolinecolor\":\"white\",\"automargin\":true,\"zerolinewidth\":2},\"scene\":{\"xaxis\":{\"backgroundcolor\":\"#E5ECF6\",\"gridcolor\":\"white\",\"linecolor\":\"white\",\"showbackground\":true,\"ticks\":\"\",\"zerolinecolor\":\"white\",\"gridwidth\":2},\"yaxis\":{\"backgroundcolor\":\"#E5ECF6\",\"gridcolor\":\"white\",\"linecolor\":\"white\",\"showbackground\":true,\"ticks\":\"\",\"zerolinecolor\":\"white\",\"gridwidth\":2},\"zaxis\":{\"backgroundcolor\":\"#E5ECF6\",\"gridcolor\":\"white\",\"linecolor\":\"white\",\"showbackground\":true,\"ticks\":\"\",\"zerolinecolor\":\"white\",\"gridwidth\":2}},\"shapedefaults\":{\"line\":{\"color\":\"#2a3f5f\"}},\"annotationdefaults\":{\"arrowcolor\":\"#2a3f5f\",\"arrowhead\":0,\"arrowwidth\":1},\"geo\":{\"bgcolor\":\"white\",\"landcolor\":\"#E5ECF6\",\"subunitcolor\":\"white\",\"showland\":true,\"showlakes\":true,\"lakecolor\":\"white\"},\"title\":{\"x\":0.05},\"mapbox\":{\"style\":\"light\"}}}},                        {\"responsive\": true}                    ).then(function(){\n",
       "                            \n",
       "var gd = document.getElementById('c6d462b7-1ce0-4376-a1c3-018db85302f6');\n",
       "var x = new MutationObserver(function (mutations, observer) {{\n",
       "        var display = window.getComputedStyle(gd).display;\n",
       "        if (!display || display === 'none') {{\n",
       "            console.log([gd, 'removed!']);\n",
       "            Plotly.purge(gd);\n",
       "            observer.disconnect();\n",
       "        }}\n",
       "}});\n",
       "\n",
       "// Listen for the removal of the full notebook cells\n",
       "var notebookContainer = gd.closest('#notebook-container');\n",
       "if (notebookContainer) {{\n",
       "    x.observe(notebookContainer, {childList: true});\n",
       "}}\n",
       "\n",
       "// Listen for the clearing of the current output cell\n",
       "var outputEl = gd.closest('.output');\n",
       "if (outputEl) {{\n",
       "    x.observe(outputEl, {childList: true});\n",
       "}}\n",
       "\n",
       "                        })                };                });            </script>        </div>"
      ]
     },
     "metadata": {},
     "output_type": "display_data"
    }
   ],
   "source": [
    "go.Figure(plot_data)"
   ]
  },
  {
   "cell_type": "code",
   "execution_count": null,
   "id": "8ac6cea8-1fa8-4b6e-b98d-dd57e28c22d0",
   "metadata": {},
   "outputs": [],
   "source": []
  },
  {
   "cell_type": "code",
   "execution_count": null,
   "id": "da5a03fa",
   "metadata": {},
   "outputs": [],
   "source": []
  }
 ],
 "metadata": {
  "kernelspec": {
   "display_name": "Python 3 (ipykernel)",
   "language": "python",
   "name": "python3"
  },
  "language_info": {
   "codemirror_mode": {
    "name": "ipython",
    "version": 3
   },
   "file_extension": ".py",
   "mimetype": "text/x-python",
   "name": "python",
   "nbconvert_exporter": "python",
   "pygments_lexer": "ipython3",
   "version": "3.10.6"
  }
 },
 "nbformat": 4,
 "nbformat_minor": 5
}
